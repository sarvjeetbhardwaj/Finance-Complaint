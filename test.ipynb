{
 "cells": [
  {
   "cell_type": "code",
   "execution_count": 2,
   "metadata": {},
   "outputs": [],
   "source": [
    "from finance_complaint.config.spark_manager import spark_session"
   ]
  },
  {
   "cell_type": "code",
   "execution_count": 3,
   "metadata": {},
   "outputs": [],
   "source": [
    "file_path=\"/config/workspace/artifact/20221213_183916/data_validation/accepted_data/finance_complaint\""
   ]
  },
  {
   "cell_type": "code",
   "execution_count": 4,
   "metadata": {},
   "outputs": [
    {
     "name": "stderr",
     "output_type": "stream",
     "text": [
      "                                                                                \r"
     ]
    }
   ],
   "source": [
    "df = spark_session.read.parquet(file_path)"
   ]
  },
  {
   "cell_type": "code",
   "execution_count": 7,
   "metadata": {},
   "outputs": [],
   "source": [
    "from pyspark.sql import functions as F"
   ]
  },
  {
   "cell_type": "code",
   "execution_count": 15,
   "metadata": {},
   "outputs": [
    {
     "name": "stderr",
     "output_type": "stream",
     "text": [
      "                                                                                \r"
     ]
    },
    {
     "name": "stdout",
     "output_type": "stream",
     "text": [
      "+--------------------+-----+\n",
      "|             product|count|\n",
      "+--------------------+-----+\n",
      "|     Debt collection|  726|\n",
      "|Money transfer, v...|  182|\n",
      "|Checking or savin...|  480|\n",
      "|            Mortgage|  315|\n",
      "|Credit card or pr...|  510|\n",
      "|Credit reporting,...| 7578|\n",
      "|Vehicle loan or l...|   92|\n",
      "|        Student loan|   66|\n",
      "|Payday loan, titl...|   51|\n",
      "+--------------------+-----+\n",
      "\n"
     ]
    }
   ],
   "source": [
    "spark_session.createDataFrame(df.select(F.col(\"product\")).groupby(\"product\").count().collect()).show()"
   ]
  },
  {
   "cell_type": "code",
   "execution_count": null,
   "metadata": {},
   "outputs": [],
   "source": [
    "M 3 \n",
    "F 2"
   ]
  },
  {
   "cell_type": "code",
   "execution_count": null,
   "metadata": {},
   "outputs": [],
   "source": [
    "1   M\n",
    "2   F\n",
    "3   M\n",
    "4   M\n",
    "5   F\n",
    "\n"
   ]
  },
  {
   "cell_type": "markdown",
   "metadata": {},
   "source": [
    "1   M    M  3\n",
    "2   F   F   2\n",
    "3   M   M   3\n",
    "4   M   M   3\n",
    "5   F   F   2"
   ]
  },
  {
   "cell_type": "code",
   "execution_count": 8,
   "metadata": {},
   "outputs": [],
   "source": [
    "from finance_complaint.ml.estimator import FinanceComplaintEstimator,ModelResolver"
   ]
  },
  {
   "cell_type": "code",
   "execution_count": 2,
   "metadata": {},
   "outputs": [],
   "source": [
    "fc=FinanceComplaintEstimator()"
   ]
  },
  {
   "cell_type": "code",
   "execution_count": 7,
   "metadata": {},
   "outputs": [
    {
     "data": {
      "text/plain": [
       "{'model_resolver': <finance_complaint.ml.estimator.ModelResolver at 0x7f47d0043850>,\n",
       " 'model_dir': 'saved_models',\n",
       " 'loaded_model_path': None,\n",
       " '_FinanceComplaintEstimator__loaded_model': None}"
      ]
     },
     "execution_count": 7,
     "metadata": {},
     "output_type": "execute_result"
    }
   ],
   "source": [
    "fc.__dict__"
   ]
  },
  {
   "cell_type": "code",
   "execution_count": 9,
   "metadata": {},
   "outputs": [],
   "source": [
    "mr = ModelResolver()"
   ]
  },
  {
   "cell_type": "code",
   "execution_count": null,
   "metadata": {},
   "outputs": [],
   "source": []
  },
  {
   "cell_type": "code",
   "execution_count": null,
   "metadata": {},
   "outputs": [],
   "source": []
  },
  {
   "cell_type": "code",
   "execution_count": 12,
   "metadata": {},
   "outputs": [],
   "source": [
    "from finance_complaint.config.spark_manager import  spark_session"
   ]
  },
  {
   "cell_type": "code",
   "execution_count": 13,
   "metadata": {},
   "outputs": [
    {
     "name": "stderr",
     "output_type": "stream",
     "text": [
      "                                                                                \r"
     ]
    }
   ],
   "source": [
    "df = spark_session.read.parquet(\"/config/workspace/data/outbox/finance_complaint_20221214_183724\")"
   ]
  },
  {
   "cell_type": "code",
   "execution_count": 14,
   "metadata": {},
   "outputs": [
    {
     "name": "stderr",
     "output_type": "stream",
     "text": [
      "22/12/14 18:39:21 WARN package: Truncated the string representation of a plan since it was too large. This behavior can be adjusted by setting 'spark.sql.debug.maxToStringFields'.\n",
      "[Stage 1:>                                                          (0 + 1) / 1]\r"
     ]
    },
    {
     "name": "stdout",
     "output_type": "stream",
     "text": [
      "+--------------------+-----------------------+--------------------+------------+-----------------------+-------------------------+-----------------+-------------------+--------------------+--------------------+--------------------+-----+--------------------+--------------------+-------------+-------------+------+--------+------------+---------------+--------------------+----------------------------+----------------+-------------------+----------------------------+----------------+-------------------+----------------------------+----------------+--------------------+--------------------+--------------------+--------------------+---------------------+-------------+-----------+----------+----------------------------+\n",
      "|             company|company_public_response|    company_response|complaint_id|complaint_what_happened|consumer_consent_provided|consumer_disputed|      date_received|date_sent_to_company|               issue|             product|state|           sub_issue|         sub_product|submitted_via|         tags|timely|zip_code|diff_in_days|im_diff_in_days| im_company_response|im_consumer_consent_provided|im_submitted_via|si_company_response|si_consumer_consent_provided|si_submitted_via|tf_company_response|tf_consumer_consent_provided|tf_submitted_via|               words|         rawFeatures|            tf_issue|   va_input_features|scaled_input_features|rawPrediction|probability|prediction|prediction_consumer_disputed|\n",
      "+--------------------+-----------------------+--------------------+------------+-----------------------+-------------------------+-----------------+-------------------+--------------------+--------------------+--------------------+-----+--------------------+--------------------+-------------+-------------+------+--------+------------+---------------+--------------------+----------------------------+----------------+-------------------+----------------------------+----------------+-------------------+----------------------------+----------------+--------------------+--------------------+--------------------+--------------------+---------------------+-------------+-----------+----------+----------------------------+\n",
      "|       EQUIFAX, INC.|                   null|Closed with expla...|     5642801|   Hi I am submittin...|         Consent provided|              N/A|2022-06-07 22:30:00| 2022-06-07 22:30:00|Incorrect informa...|Credit reporting,...|   IL|Information belon...|    Credit reporting|          Web|         null|   Yes|   60615|         0.0|            0.0|Closed with expla...|            Consent provided|             Web|                0.0|                         1.0|             0.0|      (3,[0],[1.0])|               (4,[1],[1.0])|   (4,[0],[1.0])|[incorrect, infor...|(40,[16,22,23,25,...|(40,[16,22,23,25,...|(52,[0,4,7,28,34,...| (52,[0,4,7,28,34,...|       [20.0]|      [1.0]|       0.0|                         N/A|\n",
      "|Experian Informat...|   Company has respo...|Closed with non-m...|     5678555|                       |     Consent not provided|              N/A|2022-06-17 22:30:00| 2022-06-17 22:30:00|Incorrect informa...|Credit reporting,...|   CT|Information belon...|    Credit reporting|          Web|         null|   Yes|   06114|         0.0|            0.0|Closed with non-m...|        Consent not provided|             Web|                1.0|                         0.0|             0.0|      (3,[1],[1.0])|               (4,[0],[1.0])|   (4,[0],[1.0])|[incorrect, infor...|(40,[16,22,23,25,...|(40,[16,22,23,25,...|(52,[1,3,7,28,34,...| (52,[1,3,7,28,34,...|       [20.0]|      [1.0]|       0.0|                         N/A|\n",
      "|       EQUIFAX, INC.|                   null|Closed with expla...|     5623137|   I have some inqui...|         Consent provided|              N/A|2022-06-02 22:30:00| 2022-06-02 22:30:00|Improper use of y...|Credit reporting,...|   SC|Credit inquiries ...|    Credit reporting|          Web|         null|   Yes|   29045|         0.0|            0.0|Closed with expla...|            Consent provided|             Web|                0.0|                         1.0|             0.0|      (3,[0],[1.0])|               (4,[1],[1.0])|   (4,[0],[1.0])|[improper, use, o...|(40,[13,15,23,25,...|(40,[13,15,23,25,...|(52,[0,4,7,25,27,...| (52,[0,4,7,25,27,...|       [20.0]|      [1.0]|       0.0|                         N/A|\n",
      "|       EQUIFAX, INC.|                   null|Closed with expla...|     5658179|   In accordance wit...|         Consent provided|              N/A|2022-06-10 22:30:00| 2022-06-10 22:30:00|Improper use of y...|Credit reporting,...|   NY|Reporting company...|    Credit reporting|          Web|         null|   Yes|   10469|         0.0|            0.0|Closed with expla...|            Consent provided|             Web|                0.0|                         1.0|             0.0|      (3,[0],[1.0])|               (4,[1],[1.0])|   (4,[0],[1.0])|[improper, use, o...|(40,[13,15,23,25,...|(40,[13,15,23,25,...|(52,[0,4,7,25,27,...| (52,[0,4,7,25,27,...|       [20.0]|      [1.0]|       0.0|                         N/A|\n",
      "|       EQUIFAX, INC.|                   null|Closed with expla...|     5688013|                       |     Consent not provided|              N/A|2022-06-20 22:30:00| 2022-07-05 22:30:00|Getting a credit ...|Credit card or pr...|   TX|Card opened as re...|General-purpose c...|          Web|         null|   Yes|   78205|        15.0|           15.0|Closed with expla...|        Consent not provided|             Web|                0.0|                         0.0|             0.0|      (3,[0],[1.0])|               (4,[0],[1.0])|   (4,[0],[1.0])|[getting, a, cred...|(40,[20,24,27,31]...|(40,[20,24,27,31]...|(52,[0,3,7,11,32,...| (52,[0,3,7,11,32,...|       [20.0]|      [1.0]|       0.0|                         N/A|\n",
      "|       EQUIFAX, INC.|                   null|Closed with expla...|     5674539|                       |     Consent not provided|              N/A|2022-06-16 22:30:00| 2022-06-16 22:30:00|Problem with a cr...|Credit reporting,...|   TX|Their investigati...|    Credit reporting|          Web|         null|   Yes|   77095|         0.0|            0.0|Closed with expla...|        Consent not provided|             Web|                0.0|                         0.0|             0.0|      (3,[0],[1.0])|               (4,[0],[1.0])|   (4,[0],[1.0])|[problem, with, a...|(40,[10,11,18,20,...|(40,[10,11,18,20,...|(52,[0,3,7,22,23,...| (52,[0,3,7,22,23,...|       [20.0]|      [1.0]|       0.0|                         N/A|\n",
      "|       EQUIFAX, INC.|                   null|Closed with expla...|     5699368|   Inaccurate and in...|         Consent provided|              N/A|2022-06-23 22:30:00| 2022-06-23 22:30:00|Incorrect informa...|Credit reporting,...|   GA|Personal informat...|    Credit reporting|          Web|         null|   Yes|   30310|         0.0|            0.0|Closed with expla...|            Consent provided|             Web|                0.0|                         1.0|             0.0|      (3,[0],[1.0])|               (4,[1],[1.0])|   (4,[0],[1.0])|[incorrect, infor...|(40,[16,22,23,25,...|(40,[16,22,23,25,...|(52,[0,4,7,28,34,...| (52,[0,4,7,28,34,...|       [20.0]|      [1.0]|       0.0|                         N/A|\n",
      "|       EQUIFAX, INC.|                   null|Closed with expla...|     5678930|   just XX/XX/XXXX i...|         Consent provided|              N/A|2022-06-17 22:30:00| 2022-06-17 22:30:00|Improper use of y...|Credit reporting,...|   AZ|Reporting company...|    Credit reporting|          Web|         null|   Yes|   85142|         0.0|            0.0|Closed with expla...|            Consent provided|             Web|                0.0|                         1.0|             0.0|      (3,[0],[1.0])|               (4,[1],[1.0])|   (4,[0],[1.0])|[improper, use, o...|(40,[13,15,23,25,...|(40,[13,15,23,25,...|(52,[0,4,7,25,27,...| (52,[0,4,7,25,27,...|       [20.0]|      [1.0]|       0.0|                         N/A|\n",
      "|       EQUIFAX, INC.|                   null|Closed with expla...|     5616678|                       |     Consent not provided|              N/A|2022-05-31 22:30:00| 2022-05-31 22:30:00|Incorrect informa...|Credit reporting,...|   TN|Account informati...|    Credit reporting|          Web|         null|   Yes|   37174|         0.0|            0.0|Closed with expla...|        Consent not provided|             Web|                0.0|                         0.0|             0.0|      (3,[0],[1.0])|               (4,[0],[1.0])|   (4,[0],[1.0])|[incorrect, infor...|(40,[16,22,23,25,...|(40,[16,22,23,25,...|(52,[0,3,7,28,34,...| (52,[0,3,7,28,34,...|       [20.0]|      [1.0]|       0.0|                         N/A|\n",
      "|TRANSUNION INTERM...|   Company has respo...|Closed with non-m...|     5658738|                       |     Consent not provided|              N/A|2022-06-10 22:30:00| 2022-06-10 22:30:00|Improper use of y...|Credit reporting,...|   CA|Credit inquiries ...|    Credit reporting|          Web|         null|   Yes|   90046|         0.0|            0.0|Closed with non-m...|        Consent not provided|             Web|                1.0|                         0.0|             0.0|      (3,[1],[1.0])|               (4,[0],[1.0])|   (4,[0],[1.0])|[improper, use, o...|(40,[13,15,23,25,...|(40,[13,15,23,25,...|(52,[1,3,7,25,27,...| (52,[1,3,7,25,27,...|       [20.0]|      [1.0]|       0.0|                         N/A|\n",
      "|BANK OF AMERICA, ...|   Company has respo...|Closed with expla...|     5639467|   I am trying to se...|         Consent provided|              N/A|2022-06-06 22:30:00| 2022-06-06 22:30:00|       Fraud or scam|Money transfer, v...|   NC|                null|Domestic (US) mon...|          Web|         null|   Yes|   27519|         0.0|            0.0|Closed with expla...|            Consent provided|             Web|                0.0|                         1.0|             0.0|      (3,[0],[1.0])|               (4,[1],[1.0])|   (4,[0],[1.0])|   [fraud, or, scam]|(40,[21,34,38],[1...|(40,[21,34,38],[2...|(52,[0,4,7,33,46,...| (52,[0,4,7,33,46,...|       [20.0]|      [1.0]|       0.0|                         N/A|\n",
      "|Ocwen Financial C...|                   null|Closed with expla...|     5722467|   I built my home a...|         Consent provided|              N/A|2022-06-29 22:30:00| 2022-06-29 22:30:00|Struggling to pay...|            Mortgage|   ID|                null|Other type of mor...|          Web|         null|   Yes|   83634|         0.0|            0.0|Closed with expla...|            Consent provided|             Web|                0.0|                         1.0|             0.0|      (3,[0],[1.0])|               (4,[1],[1.0])|   (4,[0],[1.0])|[struggling, to, ...|(40,[5,8,17,31],[...|(40,[5,8,17,31],[...|(52,[0,4,7,17,20,...| (52,[0,4,7,17,20,...|       [20.0]|      [1.0]|       0.0|                         N/A|\n",
      "|BARCLAYS BANK DEL...|   Company has respo...|Closed with expla...|     5716772|   My XXXX XXXX cred...|         Consent provided|              N/A|2022-06-28 22:30:00| 2022-06-28 22:30:00|Trouble using you...|Credit card or pr...|   CO|Can't use card to...|General-purpose c...|          Web|         null|   Yes|   80209|         0.0|            0.0|Closed with expla...|            Consent provided|             Web|                0.0|                         1.0|             0.0|      (3,[0],[1.0])|               (4,[1],[1.0])|   (4,[0],[1.0])|[trouble, using, ...|(40,[0,23,24,29],...|(40,[0,23,24,29],...|(52,[0,4,7,12,35,...| (52,[0,4,7,12,35,...|       [20.0]|      [1.0]|       0.0|                         N/A|\n",
      "|P&B Capital Group...|                   null|Closed with expla...|     5637548|   I have been repea...|         Consent provided|              N/A|2022-06-06 22:30:00| 2022-06-06 22:30:00|Communication tac...|     Debt collection|   MD|You told them to ...|       I do not know|          Web|         null|    No|   21133|         0.0|            0.0|Closed with expla...|            Consent provided|             Web|                0.0|                         1.0|             0.0|      (3,[0],[1.0])|               (4,[1],[1.0])|   (4,[0],[1.0])|[communication, t...|(40,[2,21],[1.0,1...|(40,[2,21],[4.832...|(52,[0,4,7,14,33]...| (52,[0,4,7,14,33]...|       [20.0]|      [1.0]|       0.0|                         N/A|\n",
      "|Experian Informat...|   Company has respo...|Closed with expla...|     5623365|                       |     Consent not provided|              N/A|2022-06-02 22:30:00| 2022-06-02 22:30:00|Problem with a cr...|Credit reporting,...|   LA|Investigation too...|    Credit reporting|          Web|         null|   Yes|   71118|         0.0|            0.0|Closed with expla...|        Consent not provided|             Web|                0.0|                         0.0|             0.0|      (3,[0],[1.0])|               (4,[0],[1.0])|   (4,[0],[1.0])|[problem, with, a...|(40,[10,11,18,20,...|(40,[10,11,18,20,...|(52,[0,3,7,22,23,...| (52,[0,3,7,22,23,...|       [20.0]|      [1.0]|       0.0|                         N/A|\n",
      "|       EQUIFAX, INC.|                   null|Closed with expla...|     5718513|   ON XX/XX/2022 I s...|         Consent provided|              N/A|2022-06-28 22:30:00| 2022-06-28 22:30:00|Improper use of y...|Credit reporting,...|   GA|Credit inquiries ...|    Credit reporting|          Web|         null|   Yes|   30082|         0.0|            0.0|Closed with expla...|            Consent provided|             Web|                0.0|                         1.0|             0.0|      (3,[0],[1.0])|               (4,[1],[1.0])|   (4,[0],[1.0])|[improper, use, o...|(40,[13,15,23,25,...|(40,[13,15,23,25,...|(52,[0,4,7,25,27,...| (52,[0,4,7,25,27,...|       [20.0]|      [1.0]|       0.0|                         N/A|\n",
      "|TRANSUNION INTERM...|   Company has respo...|Closed with non-m...|     5633850|   In accordance wit...|         Consent provided|              N/A|2022-06-04 22:30:00| 2022-06-04 22:30:00|Improper use of y...|Credit reporting,...|   MD|Reporting company...|    Credit reporting|          Web|         null|   Yes|   20708|         0.0|            0.0|Closed with non-m...|            Consent provided|             Web|                1.0|                         1.0|             0.0|      (3,[1],[1.0])|               (4,[1],[1.0])|   (4,[0],[1.0])|[improper, use, o...|(40,[13,15,23,25,...|(40,[13,15,23,25,...|(52,[1,4,7,25,27,...| (52,[1,4,7,25,27,...|       [20.0]|      [1.0]|       0.0|                         N/A|\n",
      "|Experian Informat...|   Company has respo...|Closed with expla...|     5710983|   In accordance wit...|         Consent provided|              N/A|2022-06-27 22:30:00| 2022-06-27 22:30:00|Improper use of y...|Credit reporting,...|   GA|Reporting company...|    Credit reporting|          Web|         null|   Yes|   39845|         0.0|            0.0|Closed with expla...|            Consent provided|             Web|                0.0|                         1.0|             0.0|      (3,[0],[1.0])|               (4,[1],[1.0])|   (4,[0],[1.0])|[improper, use, o...|(40,[13,15,23,25,...|(40,[13,15,23,25,...|(52,[0,4,7,25,27,...| (52,[0,4,7,25,27,...|       [20.0]|      [1.0]|       0.0|                         N/A|\n",
      "|TRANSUNION INTERM...|   Company has respo...|Closed with non-m...|     5633802|   In accordance wit...|         Consent provided|              N/A|2022-06-04 22:30:00| 2022-06-04 22:30:00|Improper use of y...|Credit reporting,...|   TX|Reporting company...|    Credit reporting|          Web|Servicemember|   Yes|   79705|         0.0|            0.0|Closed with non-m...|            Consent provided|             Web|                1.0|                         1.0|             0.0|      (3,[1],[1.0])|               (4,[1],[1.0])|   (4,[0],[1.0])|[improper, use, o...|(40,[13,15,23,25,...|(40,[13,15,23,25,...|(52,[1,4,7,25,27,...| (52,[1,4,7,25,27,...|       [20.0]|      [1.0]|       0.0|                         N/A|\n",
      "|Experian Informat...|   Company has respo...|Closed with expla...|     5719817|                       |     Consent not provided|              N/A|2022-06-28 22:30:00| 2022-06-28 22:30:00|Problem with a cr...|Credit reporting,...|   TX|Investigation too...|    Credit reporting|          Web|         null|   Yes|   78621|         0.0|            0.0|Closed with expla...|        Consent not provided|             Web|                0.0|                         0.0|             0.0|      (3,[0],[1.0])|               (4,[0],[1.0])|   (4,[0],[1.0])|[problem, with, a...|(40,[10,11,18,20,...|(40,[10,11,18,20,...|(52,[0,3,7,22,23,...| (52,[0,3,7,22,23,...|       [20.0]|      [1.0]|       0.0|                         N/A|\n",
      "+--------------------+-----------------------+--------------------+------------+-----------------------+-------------------------+-----------------+-------------------+--------------------+--------------------+--------------------+-----+--------------------+--------------------+-------------+-------------+------+--------+------------+---------------+--------------------+----------------------------+----------------+-------------------+----------------------------+----------------+-------------------+----------------------------+----------------+--------------------+--------------------+--------------------+--------------------+---------------------+-------------+-----------+----------+----------------------------+\n",
      "only showing top 20 rows\n",
      "\n"
     ]
    },
    {
     "name": "stderr",
     "output_type": "stream",
     "text": [
      "                                                                                \r"
     ]
    }
   ],
   "source": [
    "df.show()"
   ]
  },
  {
   "cell_type": "code",
   "execution_count": 15,
   "metadata": {},
   "outputs": [
    {
     "data": {
      "text/plain": [
       "['company',\n",
       " 'company_public_response',\n",
       " 'company_response',\n",
       " 'complaint_id',\n",
       " 'complaint_what_happened',\n",
       " 'consumer_consent_provided',\n",
       " 'consumer_disputed',\n",
       " 'date_received',\n",
       " 'date_sent_to_company',\n",
       " 'issue',\n",
       " 'product',\n",
       " 'state',\n",
       " 'sub_issue',\n",
       " 'sub_product',\n",
       " 'submitted_via',\n",
       " 'tags',\n",
       " 'timely',\n",
       " 'zip_code',\n",
       " 'diff_in_days',\n",
       " 'im_diff_in_days',\n",
       " 'im_company_response',\n",
       " 'im_consumer_consent_provided',\n",
       " 'im_submitted_via',\n",
       " 'si_company_response',\n",
       " 'si_consumer_consent_provided',\n",
       " 'si_submitted_via',\n",
       " 'tf_company_response',\n",
       " 'tf_consumer_consent_provided',\n",
       " 'tf_submitted_via',\n",
       " 'words',\n",
       " 'rawFeatures',\n",
       " 'tf_issue',\n",
       " 'va_input_features',\n",
       " 'scaled_input_features',\n",
       " 'rawPrediction',\n",
       " 'probability',\n",
       " 'prediction',\n",
       " 'prediction_consumer_disputed']"
      ]
     },
     "execution_count": 15,
     "metadata": {},
     "output_type": "execute_result"
    }
   ],
   "source": [
    "df.columns"
   ]
  },
  {
   "cell_type": "code",
   "execution_count": 17,
   "metadata": {},
   "outputs": [
    {
     "name": "stdout",
     "output_type": "stream",
     "text": [
      "+---------------------+-------------+-----------+----------+----------------------------+\n",
      "|scaled_input_features|rawPrediction|probability|prediction|prediction_consumer_disputed|\n",
      "+---------------------+-------------+-----------+----------+----------------------------+\n",
      "| (52,[0,4,7,28,34,...|       [20.0]|      [1.0]|       0.0|                         N/A|\n",
      "| (52,[1,3,7,28,34,...|       [20.0]|      [1.0]|       0.0|                         N/A|\n",
      "| (52,[0,4,7,25,27,...|       [20.0]|      [1.0]|       0.0|                         N/A|\n",
      "| (52,[0,4,7,25,27,...|       [20.0]|      [1.0]|       0.0|                         N/A|\n",
      "| (52,[0,3,7,11,32,...|       [20.0]|      [1.0]|       0.0|                         N/A|\n",
      "| (52,[0,3,7,22,23,...|       [20.0]|      [1.0]|       0.0|                         N/A|\n",
      "| (52,[0,4,7,28,34,...|       [20.0]|      [1.0]|       0.0|                         N/A|\n",
      "| (52,[0,4,7,25,27,...|       [20.0]|      [1.0]|       0.0|                         N/A|\n",
      "| (52,[0,3,7,28,34,...|       [20.0]|      [1.0]|       0.0|                         N/A|\n",
      "| (52,[1,3,7,25,27,...|       [20.0]|      [1.0]|       0.0|                         N/A|\n",
      "| (52,[0,4,7,33,46,...|       [20.0]|      [1.0]|       0.0|                         N/A|\n",
      "| (52,[0,4,7,17,20,...|       [20.0]|      [1.0]|       0.0|                         N/A|\n",
      "| (52,[0,4,7,12,35,...|       [20.0]|      [1.0]|       0.0|                         N/A|\n",
      "| (52,[0,4,7,14,33]...|       [20.0]|      [1.0]|       0.0|                         N/A|\n",
      "| (52,[0,3,7,22,23,...|       [20.0]|      [1.0]|       0.0|                         N/A|\n",
      "| (52,[0,4,7,25,27,...|       [20.0]|      [1.0]|       0.0|                         N/A|\n",
      "| (52,[1,4,7,25,27,...|       [20.0]|      [1.0]|       0.0|                         N/A|\n",
      "| (52,[0,4,7,25,27,...|       [20.0]|      [1.0]|       0.0|                         N/A|\n",
      "| (52,[1,4,7,25,27,...|       [20.0]|      [1.0]|       0.0|                         N/A|\n",
      "| (52,[0,3,7,22,23,...|       [20.0]|      [1.0]|       0.0|                         N/A|\n",
      "+---------------------+-------------+-----------+----------+----------------------------+\n",
      "only showing top 20 rows\n",
      "\n"
     ]
    }
   ],
   "source": [
    "df.select(['scaled_input_features',\n",
    " 'rawPrediction',\n",
    " 'probability',\n",
    " 'prediction',\n",
    " 'prediction_consumer_disputed']).show()"
   ]
  },
  {
   "cell_type": "code",
   "execution_count": null,
   "metadata": {},
   "outputs": [],
   "source": []
  }
 ],
 "metadata": {
  "kernelspec": {
   "display_name": "Python 3.8.10 64-bit",
   "language": "python",
   "name": "python3"
  },
  "language_info": {
   "codemirror_mode": {
    "name": "ipython",
    "version": 3
   },
   "file_extension": ".py",
   "mimetype": "text/x-python",
   "name": "python",
   "nbconvert_exporter": "python",
   "pygments_lexer": "ipython3",
   "version": "3.8.10"
  },
  "orig_nbformat": 4,
  "vscode": {
   "interpreter": {
    "hash": "e7370f93d1d0cde622a1f8e1c04877d8463912d04d973331ad4851f04de6915a"
   }
  }
 },
 "nbformat": 4,
 "nbformat_minor": 2
}
